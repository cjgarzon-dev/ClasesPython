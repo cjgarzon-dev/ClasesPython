{
 "cells": [
  {
   "cell_type": "code",
   "execution_count": 1,
   "id": "fc3bd6d0",
   "metadata": {},
   "outputs": [
    {
     "name": "stdout",
     "output_type": "stream",
     "text": [
      "[{'user': 'Ana', 'score': 5, 'comment': 'Excelente producto, muy recomendado'}, {'user': 'Luis', 'score': 5, 'comment': 'Producto de excelente calidad, superó mis expectativas.'}, {'user': 'Carla', 'score': 4, 'comment': 'Muy bueno, aunque me gustaría que fuera un poco más económico.'}, {'user': 'Juan', 'score': 5, 'comment': 'Totalmente recomendado, cumple con lo prometido.'}, {'user': 'Sofia', 'score': 3, 'comment': 'El producto está bien, pero esperaba algo mejor por el precio.'}, {'user': 'Pedro', 'score': 4, 'comment': 'Buen producto, aunque el envío tardó un poco más de lo esperado.'}, {'user': 'Marta', 'score': 5, 'comment': 'Maravilloso, lo uso todos los días y no me arrepiento de la compra.'}, {'user': 'Gabriel', 'score': 4, 'comment': 'Muy buen producto, pero creo que hay opciones más baratas con similar calidad.'}, {'user': 'Elena', 'score': 5, 'comment': 'Excelente relación calidad-precio, lo volveré a comprar sin duda.'}, {'user': 'Miguel', 'score': 3, 'comment': 'Está bien, pero no es lo que esperaba. Podría mejorar.'}, {'user': 'Lucía', 'score': 5, 'comment': 'Muy satisfecho con la compra, es justo lo que necesitaba.'}]\n"
     ]
    }
   ],
   "source": [
    "import itertools, collections\n",
    "\n",
    "# Simulación de reseñas\n",
    "review = [\n",
    "    {'user': 'Ana', 'score': 5, 'comment': 'Excelente producto, muy recomendado'},\n",
    "    {'user': 'Luis', 'score': 5, 'comment': 'Producto de excelente calidad, superó mis expectativas.'},\n",
    "    {'user': 'Carla', 'score': 4, 'comment': 'Muy bueno, aunque me gustaría que fuera un poco más económico.'},\n",
    "    {'user': 'Juan', 'score': 5, 'comment': 'Totalmente recomendado, cumple con lo prometido.'},\n",
    "    {'user': 'Sofia', 'score': 3, 'comment': 'El producto está bien, pero esperaba algo mejor por el precio.'},\n",
    "    {'user': 'Pedro', 'score': 4, 'comment': 'Buen producto, aunque el envío tardó un poco más de lo esperado.'},\n",
    "    {'user': 'Marta', 'score': 5, 'comment': 'Maravilloso, lo uso todos los días y no me arrepiento de la compra.'},\n",
    "    {'user': 'Gabriel', 'score': 4, 'comment': 'Muy buen producto, pero creo que hay opciones más baratas con similar calidad.'},\n",
    "    {'user': 'Elena', 'score': 5, 'comment': 'Excelente relación calidad-precio, lo volveré a comprar sin duda.'},\n",
    "    {'user': 'Miguel', 'score': 3, 'comment': 'Está bien, pero no es lo que esperaba. Podría mejorar.'},\n",
    "    {'user': 'Lucía', 'score': 5, 'comment': 'Muy satisfecho con la compra, es justo lo que necesitaba.'}\n",
    "]\n",
    "\n",
    "print(review)"
   ]
  },
  {
   "cell_type": "code",
   "execution_count": 5,
   "id": "12497290",
   "metadata": {},
   "outputs": [
    {
     "name": "stdout",
     "output_type": "stream",
     "text": [
      "Palabras más frecuentes: \n",
      "[('excelente', 3), ('producto,', 3), ('pero', 3), ('producto', 2), ('aunque', 2)]\n"
     ]
    }
   ],
   "source": [
    "# 1. Contador de palabras clave en los comentarios, excluyendo palabras cortas\n",
    "words = []\n",
    "\n",
    "for r in review:\n",
    "    words.extend(p for p in r['comment'].lower().split() if len(p) >3)\n",
    "    \n",
    "count_words = collections.Counter(words)\n",
    "print('Palabras más frecuentes: ')\n",
    "print(count_words.most_common(5))"
   ]
  }
 ],
 "metadata": {
  "kernelspec": {
   "display_name": "Python 3",
   "language": "python",
   "name": "python3"
  },
  "language_info": {
   "codemirror_mode": {
    "name": "ipython",
    "version": 3
   },
   "file_extension": ".py",
   "mimetype": "text/x-python",
   "name": "python",
   "nbconvert_exporter": "python",
   "pygments_lexer": "ipython3",
   "version": "3.13.2"
  }
 },
 "nbformat": 4,
 "nbformat_minor": 5
}
