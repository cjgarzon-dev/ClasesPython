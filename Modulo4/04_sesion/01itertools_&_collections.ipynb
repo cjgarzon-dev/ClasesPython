{
 "cells": [
  {
   "cell_type": "markdown",
   "id": "9cb3b59e",
   "metadata": {},
   "source": [
    "# Tecnicas avanzadas con itertools\n",
    "## **Iteradores Infinitos**"
   ]
  },
  {
   "cell_type": "code",
   "execution_count": 4,
   "id": "5cdacbcc",
   "metadata": {},
   "outputs": [
    {
     "name": "stdout",
     "output_type": "stream",
     "text": [
      "0\n",
      "2\n",
      "4\n",
      "6\n",
      "8\n",
      "10\n",
      "12\n",
      "14\n",
      "16\n",
      "18\n"
     ]
    }
   ],
   "source": [
    "import itertools\n",
    "\n",
    "counter = itertools.count(start= 0, step= 2)\n",
    "\n",
    "for _ in range(10):\n",
    "    print(next(counter))"
   ]
  },
  {
   "cell_type": "code",
   "execution_count": 6,
   "id": "58e4947d",
   "metadata": {},
   "outputs": [
    {
     "name": "stdout",
     "output_type": "stream",
     "text": [
      "Rojo\n",
      "Verde\n",
      "Azul\n",
      "Amarillo\n",
      "Rojo\n",
      "Verde\n"
     ]
    }
   ],
   "source": [
    "cycle = itertools.cycle(['Rojo', 'Verde', 'Azul', 'Amarillo'])\n",
    "\n",
    "for _ in range(6):\n",
    "    print(next(cycle))"
   ]
  },
  {
   "cell_type": "code",
   "execution_count": 7,
   "id": "c7d82669",
   "metadata": {},
   "outputs": [
    {
     "name": "stdout",
     "output_type": "stream",
     "text": [
      "[['Hola'], ['Hola'], ['Hola'], ['Hola'], ['Hola']]\n"
     ]
    }
   ],
   "source": [
    "repeats = itertools.repeat(['Hola'], 5)\n",
    "print(list(repeats))"
   ]
  },
  {
   "cell_type": "markdown",
   "id": "23fcb4e3",
   "metadata": {},
   "source": [
    "## **Combinaciones y Permutaciones**"
   ]
  },
  {
   "cell_type": "code",
   "execution_count": 12,
   "id": "10f6c74d",
   "metadata": {},
   "outputs": [
    {
     "name": "stdout",
     "output_type": "stream",
     "text": [
      "[('A', 'B', 'C'), ('A', 'C', 'B'), ('B', 'A', 'C'), ('B', 'C', 'A'), ('C', 'A', 'B'), ('C', 'B', 'A')]\n"
     ]
    }
   ],
   "source": [
    "import itertools\n",
    "\n",
    "date = ['A', 'B', 'C']\n",
    "\n",
    "permutation = list(itertools.permutations(date, 3))\n",
    "\n",
    "print(permutation)"
   ]
  },
  {
   "cell_type": "code",
   "execution_count": 13,
   "id": "072de6d6",
   "metadata": {},
   "outputs": [
    {
     "name": "stdout",
     "output_type": "stream",
     "text": [
      "[('A', 'B'), ('A', 'C'), ('B', 'C')]\n"
     ]
    }
   ],
   "source": [
    "combination = list(itertools.combinations(date, 2))\n",
    "print(combination)"
   ]
  },
  {
   "cell_type": "code",
   "execution_count": 16,
   "id": "73c5001b",
   "metadata": {},
   "outputs": [
    {
     "ename": "TypeError",
     "evalue": "combinations_with_replacement() missing required argument 'r' (pos 2)",
     "output_type": "error",
     "traceback": [
      "\u001b[31m---------------------------------------------------------------------------\u001b[39m",
      "\u001b[31mTypeError\u001b[39m                                 Traceback (most recent call last)",
      "\u001b[36mCell\u001b[39m\u001b[36m \u001b[39m\u001b[32mIn[16]\u001b[39m\u001b[32m, line 2\u001b[39m\n\u001b[32m      1\u001b[39m date2 = [\u001b[33m'\u001b[39m\u001b[33mA\u001b[39m\u001b[33m'\u001b[39m, \u001b[33m'\u001b[39m\u001b[33mB\u001b[39m\u001b[33m'\u001b[39m, \u001b[33m'\u001b[39m\u001b[33mC\u001b[39m\u001b[33m'\u001b[39m]\n\u001b[32m----> \u001b[39m\u001b[32m2\u001b[39m combination_with_repeat = \u001b[38;5;28mlist\u001b[39m(\u001b[43mitertools\u001b[49m\u001b[43m.\u001b[49m\u001b[43mcombinations_with_replacement\u001b[49m\u001b[43m(\u001b[49m\u001b[43mdate2\u001b[49m\u001b[43m)\u001b[49m)\n\u001b[32m      3\u001b[39m \u001b[38;5;28mprint\u001b[39m(combination_with_repeat)\n",
      "\u001b[31mTypeError\u001b[39m: combinations_with_replacement() missing required argument 'r' (pos 2)"
     ]
    }
   ],
   "source": [
    "date2 = ['A', 'B', 'C']\n",
    "combination_with_repeat = list(itertools.combinations_with_replacement(date2))\n",
    "print(combination_with_repeat)"
   ]
  }
 ],
 "metadata": {
  "kernelspec": {
   "display_name": "Python 3",
   "language": "python",
   "name": "python3"
  },
  "language_info": {
   "codemirror_mode": {
    "name": "ipython",
    "version": 3
   },
   "file_extension": ".py",
   "mimetype": "text/x-python",
   "name": "python",
   "nbconvert_exporter": "python",
   "pygments_lexer": "ipython3",
   "version": "3.13.2"
  }
 },
 "nbformat": 4,
 "nbformat_minor": 5
}
