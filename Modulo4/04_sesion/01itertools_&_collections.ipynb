{
 "cells": [
  {
   "cell_type": "markdown",
   "id": "9cb3b59e",
   "metadata": {},
   "source": [
    "# Tecnicas avanzadas con itertools\n",
    "## **Iteradores Infinitos**"
   ]
  },
  {
   "cell_type": "code",
   "execution_count": 4,
   "id": "5cdacbcc",
   "metadata": {},
   "outputs": [
    {
     "name": "stdout",
     "output_type": "stream",
     "text": [
      "0\n",
      "2\n",
      "4\n",
      "6\n",
      "8\n",
      "10\n",
      "12\n",
      "14\n",
      "16\n",
      "18\n"
     ]
    }
   ],
   "source": [
    "import itertools\n",
    "\n",
    "counter = itertools.count(start= 0, step= 2)\n",
    "\n",
    "for _ in range(10):\n",
    "    print(next(counter))"
   ]
  },
  {
   "cell_type": "code",
   "execution_count": 6,
   "id": "58e4947d",
   "metadata": {},
   "outputs": [
    {
     "name": "stdout",
     "output_type": "stream",
     "text": [
      "Rojo\n",
      "Verde\n",
      "Azul\n",
      "Amarillo\n",
      "Rojo\n",
      "Verde\n"
     ]
    }
   ],
   "source": [
    "cycle = itertools.cycle(['Rojo', 'Verde', 'Azul', 'Amarillo'])\n",
    "\n",
    "for _ in range(6):\n",
    "    print(next(cycle))"
   ]
  },
  {
   "cell_type": "code",
   "execution_count": 7,
   "id": "c7d82669",
   "metadata": {},
   "outputs": [
    {
     "name": "stdout",
     "output_type": "stream",
     "text": [
      "[['Hola'], ['Hola'], ['Hola'], ['Hola'], ['Hola']]\n"
     ]
    }
   ],
   "source": [
    "repeats = itertools.repeat(['Hola'], 5)\n",
    "print(list(repeats))"
   ]
  },
  {
   "cell_type": "markdown",
   "id": "23fcb4e3",
   "metadata": {},
   "source": [
    "## **Combinaciones y Permutaciones**"
   ]
  },
  {
   "cell_type": "code",
   "execution_count": 7,
   "id": "10f6c74d",
   "metadata": {},
   "outputs": [
    {
     "name": "stdout",
     "output_type": "stream",
     "text": [
      "[('A', 'B', 'C'), ('A', 'C', 'B'), ('B', 'A', 'C'), ('B', 'C', 'A'), ('C', 'A', 'B'), ('C', 'B', 'A')]\n"
     ]
    }
   ],
   "source": [
    "import itertools\n",
    "\n",
    "date = ['A', 'B', 'C']\n",
    "\n",
    "permutation = list(itertools.permutations(date, 3))\n",
    "\n",
    "print(permutation)"
   ]
  },
  {
   "cell_type": "code",
   "execution_count": 9,
   "id": "072de6d6",
   "metadata": {},
   "outputs": [
    {
     "name": "stdout",
     "output_type": "stream",
     "text": [
      "[('A', 'B'), ('A', 'C'), ('B', 'C')]\n"
     ]
    }
   ],
   "source": [
    "combination = list(itertools.combinations(date, 2))\n",
    "print(combination)"
   ]
  },
  {
   "cell_type": "code",
   "execution_count": 10,
   "id": "73c5001b",
   "metadata": {},
   "outputs": [
    {
     "name": "stdout",
     "output_type": "stream",
     "text": [
      "[('A', 'A', 'A'), ('A', 'A', 'B'), ('A', 'A', 'C'), ('A', 'B', 'B'), ('A', 'B', 'C'), ('A', 'C', 'C'), ('B', 'B', 'B'), ('B', 'B', 'C'), ('B', 'C', 'C'), ('C', 'C', 'C')]\n"
     ]
    }
   ],
   "source": [
    "date2 = ['A', 'B', 'C']\n",
    "combination_with_repeat = list(itertools.combinations_with_replacement(date2,3))\n",
    "print(combination_with_repeat)"
   ]
  },
  {
   "cell_type": "markdown",
   "id": "06e5c545",
   "metadata": {},
   "source": [
    "## **Agrupación y Segmentación de Datos**"
   ]
  },
  {
   "cell_type": "code",
   "execution_count": 11,
   "id": "99e0899b",
   "metadata": {},
   "outputs": [
    {
     "name": "stdout",
     "output_type": "stream",
     "text": [
      "CLAVE 1: [(1, 'A'), (1, 'B')]\n",
      "CLAVE 2: [(2, 'C'), (2, 'D')]\n",
      "CLAVE 3: [(3, 'E')]\n"
     ]
    }
   ],
   "source": [
    "date3 = [(1,'A'), (1,'B'),(2,'C'),(2,'D'),(3,'E')]\n",
    "\n",
    "for key, group in itertools.groupby(date3, key= lambda x:x[0]):\n",
    "    print(f'CLAVE {key}: {list(group)}')"
   ]
  },
  {
   "cell_type": "code",
   "execution_count": 13,
   "id": "6037deaa",
   "metadata": {},
   "outputs": [
    {
     "name": "stdout",
     "output_type": "stream",
     "text": [
      "[1, 2, 3, 4, 5]\n",
      "[1, 2, 3, 4, 5]\n"
     ]
    }
   ],
   "source": [
    "date4 = iter([1,2,3,4,5])\n",
    "\n",
    "it1, it2 = itertools.tee(date4,2)\n",
    "print(list(it1))\n",
    "print(list(it2))"
   ]
  },
  {
   "cell_type": "markdown",
   "id": "54b1df43",
   "metadata": {},
   "source": [
    "## **Productos Cartesianos y Concatenación**"
   ]
  },
  {
   "cell_type": "code",
   "execution_count": 14,
   "id": "56980e94",
   "metadata": {},
   "outputs": [
    {
     "name": "stdout",
     "output_type": "stream",
     "text": [
      "[('Rojo', 'S'), ('Rojo', 'M'), ('Verde', 'S'), ('Verde', 'M')]\n"
     ]
    }
   ],
   "source": [
    "colors = ['Rojo', 'Verde']\n",
    "size = ['S', 'M']\n",
    "\n",
    "print(list(itertools.product(colors, size)))"
   ]
  },
  {
   "cell_type": "code",
   "execution_count": 16,
   "id": "5466f140",
   "metadata": {},
   "outputs": [
    {
     "name": "stdout",
     "output_type": "stream",
     "text": [
      "[1, 2, 3, 'A', 'B']\n"
     ]
    }
   ],
   "source": [
    "a = [1,2,3]\n",
    "b = ['A', 'B']\n",
    "\n",
    "print(list(itertools.chain(a,b)))"
   ]
  },
  {
   "cell_type": "markdown",
   "id": "845ad6fd",
   "metadata": {},
   "source": [
    "# **Técnicas avanzadas con collections**"
   ]
  },
  {
   "cell_type": "code",
   "execution_count": 17,
   "id": "3fdc5d12",
   "metadata": {},
   "outputs": [
    {
     "name": "stdout",
     "output_type": "stream",
     "text": [
      "defaultdict(<class 'list'>, {'A': [1], 'B': [2]})\n"
     ]
    }
   ],
   "source": [
    "import collections\n",
    "\n",
    "d = collections.defaultdict(list)\n",
    "\n",
    "d['A'].append(1)\n",
    "d['B'].append(2)\n",
    "\n",
    "print(d)"
   ]
  },
  {
   "cell_type": "code",
   "execution_count": 18,
   "id": "3e14446a",
   "metadata": {},
   "outputs": [
    {
     "name": "stdout",
     "output_type": "stream",
     "text": [
      "Counter({'Manzana': 2, 'Pera': 2, 'Banana': 1, 'Naranja': 1, 'Fresa': 1})\n"
     ]
    }
   ],
   "source": [
    "fruits = ['Manzana', 'Banana', 'Pera', 'Naranja', 'Fresa', 'Manzana','Pera']\n",
    "\n",
    "count = collections.Counter(fruits)\n",
    "\n",
    "print(count)\n"
   ]
  },
  {
   "cell_type": "code",
   "execution_count": 19,
   "id": "5c598184",
   "metadata": {},
   "outputs": [
    {
     "name": "stdout",
     "output_type": "stream",
     "text": [
      "OrderedDict({'a': 1, 'b': 2, 'c': 3})\n"
     ]
    }
   ],
   "source": [
    "d = collections.OrderedDict()\n",
    "d['a'] = 1\n",
    "d['b'] = 2\n",
    "d['c'] = 3\n",
    "\n",
    "print(d)"
   ]
  }
 ],
 "metadata": {
  "kernelspec": {
   "display_name": "Python 3",
   "language": "python",
   "name": "python3"
  },
  "language_info": {
   "codemirror_mode": {
    "name": "ipython",
    "version": 3
   },
   "file_extension": ".py",
   "mimetype": "text/x-python",
   "name": "python",
   "nbconvert_exporter": "python",
   "pygments_lexer": "ipython3",
   "version": "3.13.2"
  }
 },
 "nbformat": 4,
 "nbformat_minor": 5
}
