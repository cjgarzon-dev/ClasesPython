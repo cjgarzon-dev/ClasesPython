{
 "cells": [
  {
   "cell_type": "code",
   "execution_count": 1,
   "metadata": {},
   "outputs": [],
   "source": [
    "var = 'Hola'"
   ]
  },
  {
   "cell_type": "code",
   "execution_count": 2,
   "metadata": {},
   "outputs": [
    {
     "name": "stdout",
     "output_type": "stream",
     "text": [
      "Hola\n"
     ]
    }
   ],
   "source": [
    "print(var)"
   ]
  },
  {
   "cell_type": "markdown",
   "metadata": {},
   "source": [
    "# Las Colecciones en Python\n",
    "Las colecciones en python son"
   ]
  },
  {
   "cell_type": "markdown",
   "metadata": {},
   "source": [
    "# **Listas** ('List')\n",
    "Las listas son colecciones ordenadas y mutables que pueden contener elementos de diferentes tipos.\n",
    "### Catacterísticas:\n",
    "- Permiten duplicados\n",
    "- Son indexadas (pueden acceder a sus elementos por su posición)\n",
    "- Se pueden modificar (Agregar, Eliminar o cambiar de elemento)\n",
    "- Son datos ordenados"
   ]
  },
  {
   "cell_type": "code",
   "execution_count": 9,
   "metadata": {},
   "outputs": [
    {
     "name": "stdout",
     "output_type": "stream",
     "text": [
      "4\n",
      "['Manzanas', 'Bananos', 'Fresas', 'Cerezas', 'Naranja']\n",
      "['Bananos', 'Fresas', 'Cerezas', 'Naranja']\n",
      "['Naranja', 'Cerezas', 'Fresas', 'Bananos']\n"
     ]
    }
   ],
   "source": [
    "fruits = ['Manzanas', 'Bananos', 'Fresas', 'Cerezas']\n",
    "print(len(fruits))\n",
    "fruits.append('Naranja')    #Agregar un elemento al final\n",
    "print(fruits)\n",
    "fruits.remove('Manzanas')   #Eliminar un elemento\n",
    "print(fruits)\n",
    "fruits.reverse()\n",
    "print(fruits)\n"
   ]
  },
  {
   "cell_type": "markdown",
   "metadata": {},
   "source": [
    "# **Tuplas**\n",
    "Las tuplas son similares a las listas pero son **inmutables**, es decir, no se puede modificar después de su creación.\n",
    "### Características_\n",
    "- Permiten duplicados\n",
    "- Son indexadas (pueden acceder a elementos por su posición)\n",
    "- No se puede modificar después de su creación"
   ]
  },
  {
   "cell_type": "code",
   "execution_count": 11,
   "metadata": {},
   "outputs": [
    {
     "name": "stdout",
     "output_type": "stream",
     "text": [
      "10\n"
     ]
    }
   ],
   "source": [
    "coordenates = (10,30)\n",
    "print(coordenates[0])       # Accedemos al primer elemento\n",
    "#coordenates[0] = 20         # X esto genera un error (TypeError)"
   ]
  },
  {
   "cell_type": "markdown",
   "metadata": {},
   "source": [
    "# **Conjuntos** (Set)\n",
    "Los conjuntos o Sets son colecciones **no ordenadas** de elementos **únicos**\n",
    "### Características:\n",
    "- No permite duplicados\n",
    "- No tiene índeces (No se puede acceder a un elemento por su posición)\n",
    "- Se pueden modificar (agregar o eliminar elementos)"
   ]
  },
  {
   "cell_type": "code",
   "execution_count": 13,
   "metadata": {},
   "outputs": [
    {
     "name": "stdout",
     "output_type": "stream",
     "text": [
      "[1, 2, 2, 3, 4, 5, 5, 5, 6, 7, 7, 7, 7, 8, 9, 9]\n",
      "{1, 2, 3, 4, 5, 6, 7, 8, 9}\n"
     ]
    }
   ],
   "source": [
    "numbers = [1,2,2,3,4,5,5,5,6,7,7,7,7,8,9,9]       # -> UNA LISTA\n",
    "print(numbers)\n",
    "numbers_only = set(numbers)\n",
    "print(numbers_only)"
   ]
  },
  {
   "cell_type": "markdown",
   "metadata": {},
   "source": [
    "### Operaciones matemáticas con conjuntos:"
   ]
  },
  {
   "cell_type": "code",
   "execution_count": 14,
   "metadata": {},
   "outputs": [
    {
     "name": "stdout",
     "output_type": "stream",
     "text": [
      "set()\n",
      "{1, 2, 3, 4, 5, 6, 7, 8, 9}\n",
      "{8, 2, 4, 6}\n"
     ]
    }
   ],
   "source": [
    "pairs = {2,4,6,8}\n",
    "unpairs = {1,3,5,7,9}\n",
    "numbers = {1,2,3,4,5,6}\n",
    "\n",
    "commons = pairs & unpairs\n",
    "union_numbers = pairs | unpairs\n",
    "differents = pairs - unpairs\n",
    "print(commons)\n",
    "print(union_numbers)\n",
    "print(differents)"
   ]
  },
  {
   "cell_type": "markdown",
   "metadata": {},
   "source": [
    "# **Diccionarios**\n",
    "Los diccionarios o **dict** almacenan pares de tipo **índice-valor**, permite acceder a los valores a través de un índica único\n",
    "### Características\n",
    "- No permiten índices duplicados\n",
    "- Los valores se pueden modificar\n",
    "- Son rápidos de búsqueda de valor"
   ]
  },
  {
   "cell_type": "code",
   "execution_count": 15,
   "metadata": {},
   "outputs": [
    {
     "name": "stdout",
     "output_type": "stream",
     "text": [
      "Juan\n",
      "{'name': 'Juan', 'age': 28, 'city': 'Bogotá', 'ocupation': 'Ingeniero'}\n"
     ]
    }
   ],
   "source": [
    "person = {\n",
    "    'name': 'Juan',\n",
    "    'age': 27,\n",
    "    'city': 'Bogotá'\n",
    "}\n",
    "print(person['name'])               # Acceder al valor calve 'name'\n",
    "person['age'] = 28                  # Modificar el valor 'age'\n",
    "person['ocupation'] = 'Ingeniero'   # Agregar un número por índice/valor\n",
    "print(person)"
   ]
  }
 ],
 "metadata": {
  "kernelspec": {
   "display_name": "Python 3",
   "language": "python",
   "name": "python3"
  },
  "language_info": {
   "codemirror_mode": {
    "name": "ipython",
    "version": 3
   },
   "file_extension": ".py",
   "mimetype": "text/x-python",
   "name": "python",
   "nbconvert_exporter": "python",
   "pygments_lexer": "ipython3",
   "version": "3.13.2"
  }
 },
 "nbformat": 4,
 "nbformat_minor": 2
}
