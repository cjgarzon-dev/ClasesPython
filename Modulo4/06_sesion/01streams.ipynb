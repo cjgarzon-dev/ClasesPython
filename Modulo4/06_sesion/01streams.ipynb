{
 "cells": [
  {
   "cell_type": "markdown",
   "id": "4d988910",
   "metadata": {},
   "source": [
    "## **Streams**"
   ]
  },
  {
   "cell_type": "code",
   "execution_count": null,
   "id": "d5a132c4",
   "metadata": {},
   "outputs": [],
   "source": [
    "map(funcion, iterable)"
   ]
  },
  {
   "cell_type": "code",
   "execution_count": null,
   "id": "43add294",
   "metadata": {},
   "outputs": [
    {
     "name": "stdout",
     "output_type": "stream",
     "text": [
      "[1, 4, 9, 16, 25]\n"
     ]
    }
   ],
   "source": [
    "nums = [1,2,3,4,5]\n",
    "\n",
    "square = list(map(lambda x: x**2, nums))\n",
    "\n",
    "print(square)"
   ]
  },
  {
   "cell_type": "code",
   "execution_count": null,
   "id": "aac722d2",
   "metadata": {},
   "outputs": [],
   "source": [
    "filter(funcion, iterable)"
   ]
  },
  {
   "cell_type": "code",
   "execution_count": 6,
   "id": "b2d5a128",
   "metadata": {},
   "outputs": [
    {
     "name": "stdout",
     "output_type": "stream",
     "text": [
      "[2, 4, 6, 8, 10]\n",
      "[2, 4, 6, 8, 10]\n"
     ]
    }
   ],
   "source": [
    "nums = [1,2,3,4,5,6,7,8,9,10]\n",
    "\n",
    "pairs = filter(lambda x: x % 2 == 0, nums)\n",
    "\n",
    "print(list(pairs))\n",
    "\n",
    "# Listas comprimidas\n",
    "pairs2 = [x for x in nums if x % 2 == 0]\n",
    "print(pairs2)"
   ]
  },
  {
   "cell_type": "code",
   "execution_count": null,
   "id": "8f2fb2a7",
   "metadata": {},
   "outputs": [],
   "source": [
    "from functools import reduce\n",
    "\n",
    "reduce(funcion, iterable)"
   ]
  },
  {
   "cell_type": "markdown",
   "id": "b2bcd8b9",
   "metadata": {},
   "source": [
    "### Ejemplos: 1. Sumar todos los elementos de una lista"
   ]
  },
  {
   "cell_type": "code",
   "execution_count": null,
   "id": "9aa30b4b",
   "metadata": {},
   "outputs": [
    {
     "name": "stdout",
     "output_type": "stream",
     "text": [
      "55\n"
     ]
    }
   ],
   "source": [
    "from functools import reduce\n",
    "\n",
    "nums = [1,2,3,4,5,6,7,8,9,10]\n",
    "\n",
    "sum_total = reduce(lambda x,y: x+y, nums)\n",
    "# devuelve un solo valor\n",
    "print(sum_total)"
   ]
  },
  {
   "cell_type": "markdown",
   "id": "999c7822",
   "metadata": {},
   "source": [
    "### Ejemplos: 2. Encontrar el número más grande de una lista"
   ]
  },
  {
   "cell_type": "code",
   "execution_count": 13,
   "id": "e7eb1e3e",
   "metadata": {},
   "outputs": [
    {
     "name": "stdout",
     "output_type": "stream",
     "text": [
      "20\n"
     ]
    }
   ],
   "source": [
    "nums = [2,4,6,8,10,12,14,16,18,20]\n",
    "\n",
    "maximum = reduce(lambda x,y: x if x > y else y, nums)\n",
    "\n",
    "print(maximum)"
   ]
  },
  {
   "cell_type": "markdown",
   "id": "6134183e",
   "metadata": {},
   "source": [
    "### Ejemplos: 3. Procesamiento de Ventas en una Tienda"
   ]
  },
  {
   "cell_type": "code",
   "execution_count": null,
   "id": "645ca136",
   "metadata": {},
   "outputs": [
    {
     "name": "stdout",
     "output_type": "stream",
     "text": [
      "Ventas originales: [120, 60, 70, 150, 50, 75, 200]\n",
      "Ventas con descuentos: [108.0, 54.0, 63.0, 135.0, 45.0, 67.5, 180.0]\n",
      "Ventas mayores a $100: [108.0, 135.0, 180.0]\n"
     ]
    }
   ],
   "source": [
    "# Lista de ventas\n",
    "sales = [120,60,70,150,50,75,200]\n",
    "\n",
    "# Aplicar un descuento del 10% a cada venta\n",
    "sales_discount = list(map(lambda x: x * 0.9, sales))\n",
    "\n",
    "# Filtro para las ventas mayores a 100\n",
    "sales_filter = list(filter(lambda x: x > 100, sales_discount))\n",
    "\n",
    "print(f'Ventas originales: {sales}')\n",
    "print(f'Ventas con descuentos: {sales_discount}')\n",
    "print(f'Ventas mayores a $100: {sales_filter}')"
   ]
  },
  {
   "cell_type": "code",
   "execution_count": 20,
   "id": "98cd9c45",
   "metadata": {},
   "outputs": [
    {
     "name": "stdout",
     "output_type": "stream",
     "text": [
      "{'leche': 900.0, 'pan': 450.0, 'huevos': 630.0, 'concentrado': 1350.0, 'arroz': 2160.0}\n",
      "{'leche': 900.0, 'pan': 450.0, 'huevos': 630.0, 'concentrado': 1350.0, 'arroz': 2160.0}\n"
     ]
    }
   ],
   "source": [
    "# Listas de Ventas\n",
    "sales2 = {\n",
    "    'leche': 1000,\n",
    "    'pan': 500,\n",
    "    'huevos': 700,\n",
    "    'concentrado': 1500,\n",
    "    'arroz': 2400\n",
    "}\n",
    "\n",
    "# Aplicar descuento de 10%\n",
    "sales2_discount = dict(map(lambda item: (item[0], item[1] * 0.9), sales2.items()))\n",
    "print(sales2_discount)\n",
    "\n",
    "# Ventas mayores a 1000\n",
    "sales2_filter = dict(filter(lambda item: (item[0], item[1] > 1000), sales2_discount.items()))\n",
    "print(sales2_filter)"
   ]
  },
  {
   "cell_type": "code",
   "execution_count": 24,
   "id": "39824b8c",
   "metadata": {},
   "outputs": [
    {
     "ename": "TypeError",
     "evalue": "'FilterSales' object is not callable",
     "output_type": "error",
     "traceback": [
      "\u001b[31m---------------------------------------------------------------------------\u001b[39m",
      "\u001b[31mTypeError\u001b[39m                                 Traceback (most recent call last)",
      "\u001b[36mCell\u001b[39m\u001b[36m \u001b[39m\u001b[32mIn[24]\u001b[39m\u001b[32m, line 69\u001b[39m\n\u001b[32m     66\u001b[39m sales_discount = management.aply_discount()\n\u001b[32m     68\u001b[39m \u001b[38;5;28mfilter\u001b[39m = FilterSales(\u001b[32m90\u001b[39m)\n\u001b[32m---> \u001b[39m\u001b[32m69\u001b[39m sales_filter = \u001b[38;5;28;43mfilter\u001b[39;49m\u001b[43m.\u001b[49m\u001b[43mfilter_Price\u001b[49m\u001b[43m(\u001b[49m\u001b[43msales_discount\u001b[49m\u001b[43m)\u001b[49m\n",
      "\u001b[36mCell\u001b[39m\u001b[36m \u001b[39m\u001b[32mIn[24]\u001b[39m\u001b[32m, line 20\u001b[39m, in \u001b[36mFilterSales.filter_Price\u001b[39m\u001b[34m(self, sales)\u001b[39m\n\u001b[32m     19\u001b[39m \u001b[38;5;28;01mdef\u001b[39;00m\u001b[38;5;250m \u001b[39m\u001b[34mfilter_Price\u001b[39m(\u001b[38;5;28mself\u001b[39m, sales: \u001b[38;5;28mdict\u001b[39m) -> \u001b[38;5;28mdict\u001b[39m:\n\u001b[32m---> \u001b[39m\u001b[32m20\u001b[39m     \u001b[38;5;28;01mreturn\u001b[39;00m \u001b[38;5;28mdict\u001b[39m(\u001b[38;5;28;43mfilter\u001b[39;49m\u001b[43m(\u001b[49m\u001b[38;5;28;43;01mlambda\u001b[39;49;00m\u001b[43m \u001b[49m\u001b[43mitem\u001b[49m\u001b[43m:\u001b[49m\u001b[43m \u001b[49m\u001b[43mitem\u001b[49m\u001b[43m[\u001b[49m\u001b[32;43m1\u001b[39;49m\u001b[43m]\u001b[49m\u001b[43m \u001b[49m\u001b[43m>\u001b[49m\u001b[43m \u001b[49m\u001b[38;5;28;43mself\u001b[39;49m\u001b[43m.\u001b[49m\u001b[43mumbral\u001b[49m\u001b[43m,\u001b[49m\u001b[43m \u001b[49m\u001b[43msales\u001b[49m\u001b[43m.\u001b[49m\u001b[43mitems\u001b[49m\u001b[43m(\u001b[49m\u001b[43m)\u001b[49m\u001b[43m)\u001b[49m)\n",
      "\u001b[31mTypeError\u001b[39m: 'FilterSales' object is not callable"
     ]
    }
   ],
   "source": [
    "# Aplicando principios SOLID\n",
    "\n",
    "from abc import ABC, abstractmethod\n",
    "\n",
    "#Interfaz para aplicar un descuento\n",
    "class DiscountStrategy(ABC):\n",
    "    @abstractmethod\n",
    "    def aply_discount(self, mount: float) -> float:\n",
    "        pass\n",
    "\n",
    "class Discount10Porcent(DiscountStrategy):\n",
    "    def aply_discount(self, mount):\n",
    "        return mount * 0.90\n",
    "\n",
    "class FilterSales:\n",
    "    def __init__(self, umbral: float):\n",
    "        self.umbral = umbral\n",
    "        \n",
    "    def filter_Price(self, sales: dict) -> dict:\n",
    "        return dict(filter(lambda item: item[1] > self.umbral, sales.items()))\n",
    "\n",
    "class ManagementSales:\n",
    "    def __init__(self, sales: dict, strategy_discount: DiscountStrategy):\n",
    "        self.sales = sales\n",
    "        self.strategy_discount = strategy_discount\n",
    "        \n",
    "    def aply_discount(self) -> dict:\n",
    "        return dict(map(lambda item: (item[0], self.strategy_discount.aply_discount(item[1])), self.sales.items()))\n",
    "\n",
    "sales3 = {\n",
    "    'leche': 1000,\n",
    "    'pan': 500,\n",
    "    'huevos': 700,\n",
    "    'concentrado': 1500,\n",
    "    'arroz': 2400,\n",
    "    'azúcar': 1200,\n",
    "    'sal': 800,\n",
    "    'aceite': 1100,\n",
    "    'pasta': 900,\n",
    "    'frijoles': 1300,\n",
    "    'lentejas': 950,\n",
    "    'harina': 1150,\n",
    "    'café': 1700,\n",
    "    'té': 600,\n",
    "    'mantequilla': 750,\n",
    "    'yogur': 980,\n",
    "    'queso': 1600,\n",
    "    'jugos': 1050,\n",
    "    'refrescos': 1800,\n",
    "    'agua': 2200,\n",
    "    'pollo': 2500,\n",
    "    'carne': 2700,\n",
    "    'pescado': 2100,\n",
    "    'verduras': 1950,\n",
    "    'frutas': 2300,\n",
    "    'galletas': 850,\n",
    "    'cereal': 1450,\n",
    "    'detergente': 1550,\n",
    "    'papel higiénico': 1400,\n",
    "    'jabón': 1250\n",
    "}\n",
    "\n",
    "strategy_discount = Discount10Porcent()\n",
    "\n",
    "management = ManagementSales(sales3, strategy_discount)\n",
    "sales_discount = management.aply_discount()\n",
    "\n",
    "filter = FilterSales(90)\n",
    "sales_filter = filter.filter_Price(sales_discount)"
   ]
  }
 ],
 "metadata": {
  "kernelspec": {
   "display_name": "Python 3",
   "language": "python",
   "name": "python3"
  },
  "language_info": {
   "codemirror_mode": {
    "name": "ipython",
    "version": 3
   },
   "file_extension": ".py",
   "mimetype": "text/x-python",
   "name": "python",
   "nbconvert_exporter": "python",
   "pygments_lexer": "ipython3",
   "version": "3.13.2"
  }
 },
 "nbformat": 4,
 "nbformat_minor": 5
}
