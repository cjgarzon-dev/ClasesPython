{
 "cells": [
  {
   "cell_type": "markdown",
   "id": "4d988910",
   "metadata": {},
   "source": [
    "## **Streams**"
   ]
  },
  {
   "cell_type": "code",
   "execution_count": null,
   "id": "d5a132c4",
   "metadata": {},
   "outputs": [],
   "source": [
    "map(funcion, iterable)"
   ]
  },
  {
   "cell_type": "code",
   "execution_count": null,
   "id": "43add294",
   "metadata": {},
   "outputs": [
    {
     "name": "stdout",
     "output_type": "stream",
     "text": [
      "[1, 4, 9, 16, 25]\n"
     ]
    }
   ],
   "source": [
    "nums = [1,2,3,4,5]\n",
    "\n",
    "square = list(map(lambda x: x**2, nums))\n",
    "\n",
    "print(square)"
   ]
  },
  {
   "cell_type": "code",
   "execution_count": null,
   "id": "aac722d2",
   "metadata": {},
   "outputs": [],
   "source": [
    "filter(funcion, iterable)"
   ]
  },
  {
   "cell_type": "code",
   "execution_count": 6,
   "id": "b2d5a128",
   "metadata": {},
   "outputs": [
    {
     "name": "stdout",
     "output_type": "stream",
     "text": [
      "[2, 4, 6, 8, 10]\n",
      "[2, 4, 6, 8, 10]\n"
     ]
    }
   ],
   "source": [
    "nums = [1,2,3,4,5,6,7,8,9,10]\n",
    "\n",
    "pairs = filter(lambda x: x % 2 == 0, nums)\n",
    "\n",
    "print(list(pairs))\n",
    "\n",
    "# Listas comprimidas\n",
    "pairs2 = [x for x in nums if x % 2 == 0]\n",
    "print(pairs2)"
   ]
  },
  {
   "cell_type": "code",
   "execution_count": null,
   "id": "8f2fb2a7",
   "metadata": {},
   "outputs": [],
   "source": [
    "from functools import reduce\n",
    "\n",
    "reduce(funcion, iterable)"
   ]
  },
  {
   "cell_type": "markdown",
   "id": "b2bcd8b9",
   "metadata": {},
   "source": [
    "### Ejemplos: 1. Sumar todos los elementos de una lista"
   ]
  },
  {
   "cell_type": "code",
   "execution_count": null,
   "id": "9aa30b4b",
   "metadata": {},
   "outputs": [
    {
     "name": "stdout",
     "output_type": "stream",
     "text": [
      "55\n"
     ]
    }
   ],
   "source": [
    "from functools import reduce\n",
    "\n",
    "nums = [1,2,3,4,5,6,7,8,9,10]\n",
    "\n",
    "sum_total = reduce(lambda x,y: x+y, nums)\n",
    "# devuelve un solo valor\n",
    "print(sum_total)"
   ]
  },
  {
   "cell_type": "markdown",
   "id": "999c7822",
   "metadata": {},
   "source": [
    "### Ejemplos: 2. Encontrar el número más grande de una lista"
   ]
  },
  {
   "cell_type": "code",
   "execution_count": 13,
   "id": "e7eb1e3e",
   "metadata": {},
   "outputs": [
    {
     "name": "stdout",
     "output_type": "stream",
     "text": [
      "20\n"
     ]
    }
   ],
   "source": [
    "nums = [2,4,6,8,10,12,14,16,18,20]\n",
    "\n",
    "maximum = reduce(lambda x,y: x if x > y else y, nums)\n",
    "\n",
    "print(maximum)"
   ]
  },
  {
   "cell_type": "markdown",
   "id": "6134183e",
   "metadata": {},
   "source": [
    "### Ejemplos: 3. Procesamiento de Ventas en una Tienda"
   ]
  },
  {
   "cell_type": "code",
   "execution_count": null,
   "id": "645ca136",
   "metadata": {},
   "outputs": [
    {
     "name": "stdout",
     "output_type": "stream",
     "text": [
      "Ventas originales: [120, 60, 70, 150, 50, 75, 200]\n",
      "Ventas con descuentos: [108.0, 54.0, 63.0, 135.0, 45.0, 67.5, 180.0]\n",
      "Ventas mayores a $100: [108.0, 135.0, 180.0]\n"
     ]
    }
   ],
   "source": [
    "# Lista de ventas\n",
    "sales = [120,60,70,150,50,75,200]\n",
    "\n",
    "# Aplicar un descuento del 10% a cada venta\n",
    "sales_discount = list(map(lambda x: x * 0.9, sales))\n",
    "\n",
    "# Filtro para las ventas mayores a 100\n",
    "sales_filter = list(filter(lambda x: x > 100, sales_discount))\n",
    "\n",
    "print(f'Ventas originales: {sales}')\n",
    "print(f'Ventas con descuentos: {sales_discount}')\n",
    "print(f'Ventas mayores a $100: {sales_filter}')"
   ]
  },
  {
   "cell_type": "code",
   "execution_count": 20,
   "id": "98cd9c45",
   "metadata": {},
   "outputs": [
    {
     "name": "stdout",
     "output_type": "stream",
     "text": [
      "{'leche': 900.0, 'pan': 450.0, 'huevos': 630.0, 'concentrado': 1350.0, 'arroz': 2160.0}\n",
      "{'leche': 900.0, 'pan': 450.0, 'huevos': 630.0, 'concentrado': 1350.0, 'arroz': 2160.0}\n"
     ]
    }
   ],
   "source": [
    "# Listas de Ventas\n",
    "sales2 = {\n",
    "    'leche': 1000,\n",
    "    'pan': 500,\n",
    "    'huevos': 700,\n",
    "    'concentrado': 1500,\n",
    "    'arroz': 2400\n",
    "}\n",
    "\n",
    "# Aplicar descuento de 10%\n",
    "sales2_discount = dict(map(lambda item: (item[0], item[1] * 0.9), sales2.items()))\n",
    "print(sales2_discount)\n",
    "\n",
    "# Ventas mayores a 1000\n",
    "sales2_filter = dict(filter(lambda item: (item[0], item[1] > 1000), sales2_discount.items()))\n",
    "print(sales2_filter)"
   ]
  },
  {
   "cell_type": "code",
   "execution_count": null,
   "id": "39824b8c",
   "metadata": {},
   "outputs": [],
   "source": [
    "# Aplicando principios SOLID\n",
    "\n",
    "from abc import ABC, abstractmethod\n",
    "\n",
    "#Interfaz para aplicar un descuento\n",
    "class DiscountStrategy(ABC):\n",
    "    @abstractmethod\n",
    "    def aply_discount(self, mount: float) -> float:\n",
    "        pass\n",
    "\n",
    "class Discount10Porcent(DiscountStrategy):\n",
    "    def aply_discount(self, mount):\n",
    "        return mount * 0.90\n",
    "\n",
    "class SalesFilter:\n",
    "    def __init__(self, umbral: float):\n",
    "        self.umbral = umbral\n",
    "        \n",
    "    def filter_by_price(self, sales: dict) -> dict:\n",
    "        return dict(filter(lambda item: item[1] > self.umbral, sales.items()))\n",
    "\n",
    "class ManagementSales:\n",
    "    def __init__(self, sales: dict, strategy_discount: DiscountStrategy):\n",
    "        self.sales = sales\n",
    "        self.strategy_discount = strategy_discount\n",
    "        \n",
    "    def aply_discount(self) -> dict:\n",
    "        return dict(map(lambda item: (item[0], self.strategy_discount.aply_discount(item[1])), self.sales.items()))\n",
    "\n",
    "sales3 = {\n",
    "    'leche': 1000,\n",
    "    'pan': 500,\n",
    "    'huevos': 700,\n",
    "    'concentrado': 1500,\n",
    "    'arroz': 2400,\n",
    "    'azúcar': 1200,\n",
    "    'sal': 800,\n",
    "    'aceite': 1100,\n",
    "    'pasta': 900,\n",
    "    'frijoles': 1300,\n",
    "    'lentejas': 950,\n",
    "    'harina': 1150,\n",
    "    'café': 1700,\n",
    "    'té': 600,\n",
    "    'mantequilla': 750,\n",
    "    'yogur': 980,\n",
    "    'queso': 1600,\n",
    "    'jugos': 1050,\n",
    "    'refrescos': 1800,\n",
    "    'agua': 2200,\n",
    "    'pollo': 2500,\n",
    "    'carne': 2700,\n",
    "    'pescado': 2100,\n",
    "    'verduras': 1950,\n",
    "    'frutas': 2300,\n",
    "    'galletas': 850,\n",
    "    'cereal': 1450,\n",
    "    'detergente': 1550,\n",
    "    'papel higiénico': 1400,\n",
    "    'jabón': 1250\n",
    "}\n",
    "\n",
    "strategy_discount = Discount10Porcent()\n",
    "\n",
    "management = ManagementSales(sales3, strategy_discount)\n",
    "sales_discount = management.aply_discount()\n",
    "\n",
    "sales_filter = SalesFilter(90.0)\n",
    "filtered_sales = sales_filter.filter_by_price(sales_discount)\n",
    "\n",
    "print(sales_discount)"
   ]
  }
 ],
 "metadata": {
  "kernelspec": {
   "display_name": "Python 3",
   "language": "python",
   "name": "python3"
  },
  "language_info": {
   "codemirror_mode": {
    "name": "ipython",
    "version": 3
   },
   "file_extension": ".py",
   "mimetype": "text/x-python",
   "name": "python",
   "nbconvert_exporter": "python",
   "pygments_lexer": "ipython3",
   "version": "3.13.2"
  }
 },
 "nbformat": 4,
 "nbformat_minor": 5
}
