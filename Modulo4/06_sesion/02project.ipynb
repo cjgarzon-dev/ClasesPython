{
 "cells": [
  {
   "cell_type": "markdown",
   "id": "d0c42795",
   "metadata": {},
   "source": [
    "### Ejemplo de proyecto de administración de empleados"
   ]
  },
  {
   "cell_type": "code",
   "execution_count": 27,
   "id": "97959cf8",
   "metadata": {},
   "outputs": [
    {
     "name": "stdout",
     "output_type": "stream",
     "text": [
      "Empleado: Carlos Estado: Disponible\n",
      "100\n",
      "Estado de Carlos cambiado a Volando\n",
      "Empleado: Carlos Estado: Volando\n"
     ]
    }
   ],
   "source": [
    "from abc import ABC, abstractmethod\n",
    "\n",
    "class StatusEmployee(ABC):\n",
    "    @abstractmethod\n",
    "    def obtain_status(self):\n",
    "        pass\n",
    "\n",
    "class Available(StatusEmployee):\n",
    "    def obtain_status(self):\n",
    "        return 'Disponible'\n",
    "    \n",
    "class Fly(StatusEmployee):\n",
    "    def obtain_status(self):\n",
    "        return 'Volando'\n",
    "\n",
    "class Resting(StatusEmployee):\n",
    "    def obtain_status(self):\n",
    "        return 'Descanso'\n",
    "\n",
    "class Disable(StatusEmployee):\n",
    "    def obtain_status(self):\n",
    "        return 'Incapacidado'\n",
    "\n",
    "class NotAvailable(StatusEmployee):\n",
    "    def obtain_status(self):\n",
    "        return 'No Disponible'\n",
    "\n",
    "class Rute(ABC):\n",
    "    @abstractmethod\n",
    "    def obtain_cost(self):\n",
    "        pass\n",
    "\n",
    "class RuteCheap(Rute):\n",
    "    def obtain_cost(self):\n",
    "        return 100\n",
    "\n",
    "class RutePremium(Rute):\n",
    "    def obtain_cost(self):\n",
    "        return 200\n",
    "    \n",
    "class RuteGold(Rute):\n",
    "    def obtain_cost(self):\n",
    "        return 300\n",
    "\n",
    "class Employee:\n",
    "    def __init__(self, name, status: StatusEmployee):\n",
    "        self.name = name\n",
    "        self.status = status\n",
    "        self.history = []\n",
    "    \n",
    "    def change_status(self, new_status: StatusEmployee):\n",
    "        self.status = new_status\n",
    "    \n",
    "    def obtain_info(self):\n",
    "        return f'Empleado: {self.name} Estado: {self.status.obtain_status()}'\n",
    "    \n",
    "    def add_rute(self, rute: Rute):\n",
    "        if isinstance(self.status, Available):\n",
    "            self.status = Fly()\n",
    "            self.history.append(f'Ruta Asignada: {type(rute).__name__}')\n",
    "            print(f'{self.name} ha sido asignado a la ruta {type(rute).__name__}')\n",
    "    \n",
    "class ManageRute:\n",
    "    def __init__(self, rutes: list[Rute]):\n",
    "        self.rutes = {type(rute).__name__: rute for rute in rutes}\n",
    "    \n",
    "    def obtain_price_by_rute(self, name_rute:str):\n",
    "        rute = self.rutes.get(name_rute)\n",
    "        \n",
    "        if rute:\n",
    "            return rute.obtain_cost()\n",
    "        else:\n",
    "            raise ValueError('Error ruta no existe')\n",
    "\n",
    "class ManageEmployee:\n",
    "    def __init__(self):\n",
    "        self.employees = []\n",
    "    \n",
    "    def add_employees(self, employee: Employee):\n",
    "        self.employees.append(employee)\n",
    "    \n",
    "    def list_employee(self):\n",
    "        for employee in self.employees:\n",
    "            print(employee.obtain_info())\n",
    "    \n",
    "    def change_status_employee(self, name: str, new_status: StatusEmployee):\n",
    "        for employee in self.employees:\n",
    "            if employee.name == name:\n",
    "                employee.change_status(new_status)\n",
    "                print(f'Estado de {name} cambiado a {new_status.obtain_status()}')\n",
    "                return\n",
    "            print(f'No se encontro el empleado con ese nombre {name}')\n",
    "    \n",
    "    def add_rute_to_employee(self, name: str, rute: Rute):\n",
    "        for employee in self.employees:\n",
    "            if employee.name == name:\n",
    "                employee.add_rute(rute)\n",
    "                return\n",
    "        print(f'No se encontró un empleado con ese nombre')\n",
    "\n",
    "employee1 = Employee('Carlos', Available())\n",
    "\n",
    "manage_employee = ManageEmployee()\n",
    "manage_employee.add_employees(employee1)\n",
    "\n",
    "rute_economy = RuteCheap()\n",
    "\n",
    "manage_employee.list_employee()\n",
    "\n",
    "manage_rutes = ManageRute([rute_economy])\n",
    "\n",
    "print(manage_rutes.obtain_price_by_rute('RuteCheap'))\n",
    "\n",
    "manage_employee.change_status_employee('Carlos', Fly())\n",
    "manage_employee.list_employee()\n",
    "    \n",
    "    "
   ]
  },
  {
   "cell_type": "code",
   "execution_count": 28,
   "id": "43fc262e",
   "metadata": {},
   "outputs": [
    {
     "name": "stdout",
     "output_type": "stream",
     "text": [
      "Empleado: Carlos Estado: Volando\n",
      "Empleado: Pedro Estado: Disponible\n",
      "Pedro ha sido asignado a la ruta RuteCheap\n"
     ]
    }
   ],
   "source": [
    "employee2 = Employee('Pedro', Available())\n",
    "\n",
    "manage_employee.add_employees(employee2)\n",
    "\n",
    "manage_employee.list_employee()\n",
    "\n",
    "manage_employee.add_rute_to_employee('Pedro', RuteCheap())"
   ]
  },
  {
   "cell_type": "code",
   "execution_count": 29,
   "id": "996de7c9",
   "metadata": {},
   "outputs": [],
   "source": [
    "manage_employee.add_rute_to_employee('Pedro', RuteCheap())"
   ]
  }
 ],
 "metadata": {
  "kernelspec": {
   "display_name": "Python 3",
   "language": "python",
   "name": "python3"
  },
  "language_info": {
   "codemirror_mode": {
    "name": "ipython",
    "version": 3
   },
   "file_extension": ".py",
   "mimetype": "text/x-python",
   "name": "python",
   "nbconvert_exporter": "python",
   "pygments_lexer": "ipython3",
   "version": "3.13.2"
  }
 },
 "nbformat": 4,
 "nbformat_minor": 5
}
