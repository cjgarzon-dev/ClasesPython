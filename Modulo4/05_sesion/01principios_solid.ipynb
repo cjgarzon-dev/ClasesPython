{
 "cells": [
  {
   "cell_type": "markdown",
   "id": "de58a580",
   "metadata": {},
   "source": [
    "## *Principios* **SOLID**\n",
    "**Single Responsability:** Nos indica que cada clase debe encargarse de una tarea o responsabilidad"
   ]
  },
  {
   "cell_type": "code",
   "execution_count": 3,
   "id": "800aa704",
   "metadata": {},
   "outputs": [],
   "source": [
    "import bcrypt"
   ]
  }
 ],
 "metadata": {
  "kernelspec": {
   "display_name": "Python 3",
   "language": "python",
   "name": "python3"
  },
  "language_info": {
   "codemirror_mode": {
    "name": "ipython",
    "version": 3
   },
   "file_extension": ".py",
   "mimetype": "text/x-python",
   "name": "python",
   "nbconvert_exporter": "python",
   "pygments_lexer": "ipython3",
   "version": "3.13.2"
  }
 },
 "nbformat": 4,
 "nbformat_minor": 5
}
