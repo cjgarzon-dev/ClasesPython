{
 "cells": [
  {
   "cell_type": "markdown",
   "id": "de58a580",
   "metadata": {},
   "source": [
    "### *Principios* **SOLID**\n",
    "## 1.**Single Responsability:** \n",
    "Nos indica que cada clase debe encargarse de una tarea o responsabilidad"
   ]
  },
  {
   "cell_type": "markdown",
   "id": "2618d256",
   "metadata": {},
   "source": [
    "### Así es como **no** debería hacerse:"
   ]
  },
  {
   "cell_type": "code",
   "execution_count": null,
   "id": "800aa704",
   "metadata": {},
   "outputs": [
    {
     "name": "stdout",
     "output_type": "stream",
     "text": [
      "Usuario Juan registrado con éxito\n",
      "123ABC\n",
      "b'$2b$12$wrp2pOw4Nbs1ksxFHR36Ku'\n",
      "b'$2b$12$wrp2pOw4Nbs1ksxFHR36KuvVbSjpGQDaIez5VjhX7ue0arXz/9jJ2'\n"
     ]
    }
   ],
   "source": [
    "import bcrypt\n",
    "\n",
    "class Ecommerce:\n",
    "    \n",
    "    def __init__(self):\n",
    "        self.users = {}\n",
    "        \n",
    "    def register(self, username, password):\n",
    "        salt = bcrypt.gensalt()\n",
    "        hashed_password = bcrypt.hashpw(password.encode(), salt)\n",
    "        self.users[username] = hashed_password\n",
    "        print(f'Usuario {username} registrado con éxito')\n",
    "\n",
    "ecommerce = Ecommerce()\n",
    "ecommerce.register('Juan', '123ABC')\n"
   ]
  },
  {
   "cell_type": "markdown",
   "id": "e0e6b16d",
   "metadata": {},
   "source": [
    "### Así **si** debería hacerse:"
   ]
  },
  {
   "cell_type": "code",
   "execution_count": 4,
   "id": "2b3284a2",
   "metadata": {},
   "outputs": [
    {
     "name": "stdout",
     "output_type": "stream",
     "text": [
      "Usuario Juan registrado con éxito\n"
     ]
    }
   ],
   "source": [
    "class PasswordManager:\n",
    "    def encrypt_password(self, password: str) -> str:\n",
    "        salt = bcrypt.gensalt()\n",
    "        return bcrypt.hashpw(password.encode(), salt)\n",
    "    \n",
    "    def verify_password():\n",
    "        pass\n",
    "\n",
    "class Ecommerce:\n",
    "    \n",
    "    def __init__(self, password_manager: PasswordManager):\n",
    "        self.users = {}\n",
    "        self.password_manager = password_manager\n",
    "        \n",
    "    def register(self, username, password):\n",
    "        hashed_password = self.password_manager.encrypt_password(password)\n",
    "        self.users[username] = hashed_password\n",
    "        print(f'Usuario {username} registrado con éxito')\n",
    "\n",
    "password_manager = PasswordManager()\n",
    "ecommerce = Ecommerce(password_manager)\n",
    "ecommerce.register('Juan', '123ABC')"
   ]
  },
  {
   "cell_type": "markdown",
   "id": "8d756bec",
   "metadata": {},
   "source": [
    "## 2. Principio **Open/Closed**:\n",
    "Implementa la abstracción"
   ]
  },
  {
   "cell_type": "markdown",
   "id": "ae94fa98",
   "metadata": {},
   "source": [
    "### Así es como **no** debería hacerse:"
   ]
  },
  {
   "cell_type": "code",
   "execution_count": 11,
   "id": "525b94b2",
   "metadata": {},
   "outputs": [
    {
     "name": "stdout",
     "output_type": "stream",
     "text": [
      "Área de un círculo: 78.53981633974483\n",
      "Área de un rectangulo: 24\n"
     ]
    }
   ],
   "source": [
    "import math\n",
    "class AreaCalculator:\n",
    "    def calculate_area(self, shape: str, **kwargs):\n",
    "        if shape == 'circle':\n",
    "            return math.pi *(kwargs['radio'] ** 2)\n",
    "        elif shape == 'rectangle':\n",
    "            return kwargs['width'] * kwargs['high']\n",
    "    \n",
    "calculator = AreaCalculator()\n",
    "print(f'Área de un círculo: {calculator.calculate_area('circle', radio=5)}')\n",
    "print(f'Área de un rectangulo: {calculator.calculate_area('rectangle', width=4, high=6)}')"
   ]
  },
  {
   "cell_type": "markdown",
   "id": "94ac9510",
   "metadata": {},
   "source": [
    "### Así **si** debería hacerse:"
   ]
  },
  {
   "cell_type": "code",
   "execution_count": 16,
   "id": "34492993",
   "metadata": {},
   "outputs": [
    {
     "name": "stdout",
     "output_type": "stream",
     "text": [
      "Area de un circulo: 78.53981633974483\n",
      "Area de un rectangulo: 24\n",
      "Area de un triangulo: 6.0\n"
     ]
    }
   ],
   "source": [
    "from abc import ABC, abstractmethod\n",
    "\n",
    "class FigureGeometry(ABC):\n",
    "    @abstractmethod\n",
    "    def calculate_area(self) -> float:\n",
    "        pass\n",
    "\n",
    "class Circle(FigureGeometry):\n",
    "    def __init__(self, radio):\n",
    "        self.radio = radio\n",
    "        \n",
    "    def calculate_area(self):\n",
    "        return math.pi * (self.radio ** 2)\n",
    "\n",
    "class Rectangle(FigureGeometry):\n",
    "    def __init__(self, width, high):\n",
    "        self.width = width\n",
    "        self.high = high\n",
    "    \n",
    "    def calculate_area(self):\n",
    "        return self.width * self.high\n",
    "\n",
    "class Triangle(FigureGeometry):\n",
    "    def __init__(self, base, high):\n",
    "        self.base = base\n",
    "        self.high = high\n",
    "    \n",
    "    def calculate_area(self):\n",
    "        return 0.5 * self.base * self.high\n",
    "\n",
    "class CalculatorAreas:\n",
    "    def calculate(self, figure: FigureGeometry) -> float:\n",
    "        return figure.calculate_area()\n",
    "\n",
    "calculator = CalculatorAreas()\n",
    "circle = Circle(5)\n",
    "rectangle = Rectangle(4, 6)\n",
    "triangle = Triangle(3, 4)\n",
    "print(f'Area de un circulo: {calculator.calculate(circle)}')\n",
    "print(f'Area de un rectangulo: {calculator.calculate(rectangle)}')\n",
    "print(f'Area de un triangulo: {calculator.calculate(triangle)}')"
   ]
  },
  {
   "cell_type": "markdown",
   "id": "e69f50b9",
   "metadata": {},
   "source": [
    "## 3. Principio **LIskov**:\n",
    "Los objetos de una subclase deben ser reemplazados por objetos base sin alterar el funcionamiento de un programa"
   ]
  },
  {
   "cell_type": "markdown",
   "id": "5e796cb3",
   "metadata": {},
   "source": [
    "### Así es como **no** debería hacerse:"
   ]
  },
  {
   "cell_type": "code",
   "execution_count": null,
   "id": "10bcfafc",
   "metadata": {},
   "outputs": [],
   "source": [
    "class Vehicle:\n",
    "    def accelerate(self):\n",
    "        print('Aumento de velocidad')\n",
    "        \n",
    "class Car(Vehicle):\n",
    "    def accelerate(self):\n",
    "        print('Acelera con el funcionamiento del motor')\n",
    "    \n",
    "class Bicycle(Vehicle):\n",
    "    def accelerate(self):\n",
    "        raise NotImplementedError('Las bicicletas no tienen acelerador')\n",
    "    \n",
    "def test_vehicle(vehicle: Vehicle):\n",
    "    vehicle.accelerate()\n",
    "\n",
    "car = Car()\n",
    "bicycle = Bicycle()\n",
    "test_vehicle(car)\n",
    "test_vehicle(bicycle)\n",
    "\n",
    "# Saldrá un error al implementarlo así"
   ]
  },
  {
   "cell_type": "markdown",
   "id": "37e87f24",
   "metadata": {},
   "source": [
    "### Así **si** debería hacerse:"
   ]
  },
  {
   "cell_type": "code",
   "execution_count": 20,
   "id": "b93d625b",
   "metadata": {},
   "outputs": [
    {
     "name": "stdout",
     "output_type": "stream",
     "text": [
      "El coche se mueve\n",
      "La bicicleta se mueve\n"
     ]
    }
   ],
   "source": [
    "from abc import ABC, abstractmethod\n",
    "\n",
    "class Vehicle(ABC):\n",
    "    @abstractmethod\n",
    "    def move(self):\n",
    "        pass\n",
    "    \n",
    "class VehicleWithMotor(Vehicle):\n",
    "    @abstractmethod\n",
    "    def accelerate(self):\n",
    "        pass\n",
    "    \n",
    "class VehicleWithoutMotot(Vehicle):\n",
    "    @abstractmethod\n",
    "    def pedalear(self):\n",
    "        pass\n",
    "\n",
    "class Car(VehicleWithMotor):\n",
    "    def accelerate(self):\n",
    "        print('El coche acelera con el motor')\n",
    "    \n",
    "    def move(self):\n",
    "        print('El coche se mueve')\n",
    "\n",
    "class Bicycle(VehicleWithoutMotot):\n",
    "    def pedalear(self):\n",
    "        print('La bicicleta avanza al pedalear (no tiene acelerador)')\n",
    "        \n",
    "    def move(self):\n",
    "        print('La bicicleta se mueve')\n",
    "\n",
    "def test_motion(vehicle: Vehicle):\n",
    "    vehicle.move()\n",
    "\n",
    "car = Car()\n",
    "bicycle = Bicycle()\n",
    "\n",
    "test_motion(car)\n",
    "test_motion(bicycle)\n"
   ]
  },
  {
   "cell_type": "markdown",
   "id": "f93f5c94",
   "metadata": {},
   "source": [
    "## 4. Principio **Dependency Inversion**:\n",
    "Los módulos de alto nivel no deben depender de los módulos de bajo nivel"
   ]
  },
  {
   "cell_type": "markdown",
   "id": "85395335",
   "metadata": {},
   "source": [
    "### Así es como **no** debería hacerse:"
   ]
  },
  {
   "cell_type": "code",
   "execution_count": 21,
   "id": "767f9a44",
   "metadata": {},
   "outputs": [
    {
     "name": "stdout",
     "output_type": "stream",
     "text": [
      "Enviar email: Hola, Somos DevSenior\n"
     ]
    }
   ],
   "source": [
    "class EmailService:\n",
    "    def send_mail(self, message):\n",
    "        print(f'Enviar email: {message}')\n",
    "    \n",
    "class Notificate:\n",
    "    def __init__(self):\n",
    "        self.email_service = EmailService()\n",
    "    \n",
    "    def notificate(self, message: str):\n",
    "        self.email_service.send_mail(message)\n",
    "\n",
    "notifator = Notificate()\n",
    "notifator.notificate('Hola, Somos DevSenior')"
   ]
  },
  {
   "cell_type": "markdown",
   "id": "99a21039",
   "metadata": {},
   "source": [
    "### Así **si** debería hacerse:"
   ]
  },
  {
   "cell_type": "code",
   "execution_count": 8,
   "id": "0b3c21ba",
   "metadata": {},
   "outputs": [
    {
     "name": "stdout",
     "output_type": "stream",
     "text": [
      "Enviar email: Hola somos DevSenior desde correo incognito\n",
      "Enviar email: Hola Somos DevSenior desde SMS\n",
      "Enviar email: Hola somos DevSenior desde WhatsApp\n",
      "Mensaje modificado: Hola somos DevSenior desde email\n",
      "Enviar email: Hola somos DevSenior desde email\n"
     ]
    }
   ],
   "source": [
    "from abc import ABC, abstractmethod\n",
    "\n",
    "class INotification(ABC):\n",
    "    \n",
    "    @abstractmethod\n",
    "    def send(self, message: str):\n",
    "        pass\n",
    "\n",
    "class EmailService(INotification):\n",
    "    def send(self, message: str):\n",
    "        print(f'Enviar email: {message}')\n",
    "\n",
    "class SMSService(INotification):\n",
    "    def send(self, message: str):\n",
    "        print(f'Enviar SMS: {message}')\n",
    "        \n",
    "class WhatsAppService(INotification):\n",
    "    def send(self, message):\n",
    "        print(f'Enviar notificación de WhatsApp: {message}')\n",
    "        \n",
    "class Notificador:\n",
    "    def __init__(self, service: INotification):\n",
    "        self.service = service\n",
    "    \n",
    "    def notificar(self, message: str):\n",
    "        self.service.send(message)\n",
    "\n",
    "class Notificator_Update:\n",
    "    def __init__(self, notificator: Notificador):\n",
    "        self.notification = notificator\n",
    "        self.message = None\n",
    "    \n",
    "    def notificar(self, message: str):\n",
    "        self.message = message\n",
    "        self.notification.notificar(message)\n",
    "        \n",
    "    def modificate_message(self, new_message: str):\n",
    "        if self.message is None:\n",
    "            print('No hay mensaje previo a modificar')\n",
    "            return\n",
    "        self.message = new_message\n",
    "        print(f'Mensaje modificado: {self.message}')\n",
    "        self.notification.notificar(self.message)\n",
    "\n",
    "\n",
    "email_notificator = Notificator_Update(Notificador(EmailService()))\n",
    "sms_notificator = Notificador(EmailService())\n",
    "wap_notificator = Notificador(EmailService())\n",
    "\n",
    "# Mensaje inicial\n",
    "email_notificator.notificar('Hola somos DevSenior desde correo incognito')\n",
    "sms_notificator.notificar('Hola Somos DevSenior desde SMS')    \n",
    "wap_notificator.notificar('Hola somos DevSenior desde WhatsApp')\n",
    "\n",
    "#Mensaje modificador\n",
    "email_notificator.modificate_message('Hola somos DevSenior desde email')"
   ]
  }
 ],
 "metadata": {
  "kernelspec": {
   "display_name": "Python 3",
   "language": "python",
   "name": "python3"
  },
  "language_info": {
   "codemirror_mode": {
    "name": "ipython",
    "version": 3
   },
   "file_extension": ".py",
   "mimetype": "text/x-python",
   "name": "python",
   "nbconvert_exporter": "python",
   "pygments_lexer": "ipython3",
   "version": "3.13.2"
  }
 },
 "nbformat": 4,
 "nbformat_minor": 5
}
