{
 "cells": [
  {
   "cell_type": "markdown",
   "id": "de58a580",
   "metadata": {},
   "source": [
    "### *Principios* **SOLID**\n",
    "## 1.**Single Responsability:** \n",
    "Nos indica que cada clase debe encargarse de una tarea o responsabilidad"
   ]
  },
  {
   "cell_type": "markdown",
   "id": "2618d256",
   "metadata": {},
   "source": [
    "### Así es como **no** debería hacerse:"
   ]
  },
  {
   "cell_type": "code",
   "execution_count": null,
   "id": "800aa704",
   "metadata": {},
   "outputs": [
    {
     "name": "stdout",
     "output_type": "stream",
     "text": [
      "Usuario Juan registrado con éxito\n",
      "123ABC\n",
      "b'$2b$12$wrp2pOw4Nbs1ksxFHR36Ku'\n",
      "b'$2b$12$wrp2pOw4Nbs1ksxFHR36KuvVbSjpGQDaIez5VjhX7ue0arXz/9jJ2'\n"
     ]
    }
   ],
   "source": [
    "import bcrypt\n",
    "\n",
    "class Ecommerce:\n",
    "    \n",
    "    def __init__(self):\n",
    "        self.users = {}\n",
    "        \n",
    "    def register(self, username, password):\n",
    "        salt = bcrypt.gensalt()\n",
    "        hashed_password = bcrypt.hashpw(password.encode(), salt)\n",
    "        self.users[username] = hashed_password\n",
    "        print(f'Usuario {username} registrado con éxito')\n",
    "\n",
    "ecommerce = Ecommerce()\n",
    "ecommerce.register('Juan', '123ABC')\n"
   ]
  },
  {
   "cell_type": "markdown",
   "id": "e0e6b16d",
   "metadata": {},
   "source": [
    "### Así **si** debería hacerse:"
   ]
  },
  {
   "cell_type": "code",
   "execution_count": 4,
   "id": "2b3284a2",
   "metadata": {},
   "outputs": [
    {
     "name": "stdout",
     "output_type": "stream",
     "text": [
      "Usuario Juan registrado con éxito\n"
     ]
    }
   ],
   "source": [
    "class PasswordManager:\n",
    "    def encrypt_password(self, password: str) -> str:\n",
    "        salt = bcrypt.gensalt()\n",
    "        return bcrypt.hashpw(password.encode(), salt)\n",
    "    \n",
    "    def verify_password():\n",
    "        pass\n",
    "\n",
    "class Ecommerce:\n",
    "    \n",
    "    def __init__(self, password_manager: PasswordManager):\n",
    "        self.users = {}\n",
    "        self.password_manager = password_manager\n",
    "        \n",
    "    def register(self, username, password):\n",
    "        hashed_password = self.password_manager.encrypt_password(password)\n",
    "        self.users[username] = hashed_password\n",
    "        print(f'Usuario {username} registrado con éxito')\n",
    "\n",
    "password_manager = PasswordManager()\n",
    "ecommerce = Ecommerce(password_manager)\n",
    "ecommerce.register('Juan', '123ABC')"
   ]
  },
  {
   "cell_type": "markdown",
   "id": "8d756bec",
   "metadata": {},
   "source": [
    "## 2. Principio **Open/Closed**:"
   ]
  }
 ],
 "metadata": {
  "kernelspec": {
   "display_name": "Python 3",
   "language": "python",
   "name": "python3"
  },
  "language_info": {
   "codemirror_mode": {
    "name": "ipython",
    "version": 3
   },
   "file_extension": ".py",
   "mimetype": "text/x-python",
   "name": "python",
   "nbconvert_exporter": "python",
   "pygments_lexer": "ipython3",
   "version": "3.13.2"
  }
 },
 "nbformat": 4,
 "nbformat_minor": 5
}
