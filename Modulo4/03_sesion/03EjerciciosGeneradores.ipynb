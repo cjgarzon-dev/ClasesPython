{
 "cells": [
  {
   "cell_type": "markdown",
   "metadata": {},
   "source": [
    "# **Ejercicios de Iteradores en Python**  \n",
    "\n",
    "1. **Iterador Personalizado**  \n",
    "   Crea una clase que implemente un iterador para generar los primeros `n` números pares. "
   ]
  },
  {
   "cell_type": "code",
   "execution_count": 2,
   "metadata": {},
   "outputs": [
    {
     "name": "stdout",
     "output_type": "stream",
     "text": [
      "0\n",
      "2\n",
      "4\n",
      "6\n",
      "8\n"
     ]
    }
   ],
   "source": [
    "class Iterator_Pair():\n",
    "    def __init__(self, n):\n",
    "        self.n = n\n",
    "        self.counter = 0\n",
    "        self.value_actual = 0\n",
    "    \n",
    "    def __iter__(self):\n",
    "        return self\n",
    "\n",
    "    def __next__(self):\n",
    "        if self.counter >= self.n:\n",
    "            raise StopIteration\n",
    "        pair = self.value_actual\n",
    "        self.value_actual += 2\n",
    "        self.counter += 1\n",
    "        return pair\n",
    "\n",
    "n = 5\n",
    "iterator = Iterator_Pair(n)\n",
    "for num in iterator:\n",
    "    print(num)\n",
    "        "
   ]
  },
  {
   "cell_type": "markdown",
   "metadata": {},
   "source": [
    "2. **Iteración sobre un Archivo**  \n",
    "   Implementa un iterador que lea un archivo de texto línea por línea sin cargarlo completamente en memoria.  \n"
   ]
  },
  {
   "cell_type": "code",
   "execution_count": 4,
   "metadata": {},
   "outputs": [
    {
     "name": "stdout",
     "output_type": "stream",
     "text": [
      "Hola Mundo DevSenior\n",
      "Bienvenido al curso\n"
     ]
    }
   ],
   "source": [
    "class Iterator_File:\n",
    "    def __init__(self, file):\n",
    "        self.file = file\n",
    "        self.f = open(file, 'r', encoding= 'utf-8')\n",
    "\n",
    "    def __iter__(self):\n",
    "        return self\n",
    "    \n",
    "    def __next__(self):\n",
    "        line = self.f.readline()\n",
    "        if not line:\n",
    "            self.f.close()\n",
    "            raise StopIteration\n",
    "        return line.strip()\n",
    "\n",
    "file = 'ejemplo.txt'\n",
    "iterator = Iterator_File(file)\n",
    "for line in iterator:\n",
    "    print(line)\n"
   ]
  },
  {
   "cell_type": "markdown",
   "metadata": {},
   "source": [
    "3. **Iterador de Fibonacci**  \n",
    "   Diseña un iterador que genere la secuencia de Fibonacci hasta un número `n` de elementos.  \n"
   ]
  },
  {
   "cell_type": "code",
   "execution_count": null,
   "metadata": {},
   "outputs": [],
   "source": []
  },
  {
   "cell_type": "markdown",
   "metadata": {},
   "source": [
    "4. **Iterador de Números Primos**  \n",
    "   Crea un iterador que devuelva los primeros `n` números primos.  "
   ]
  },
  {
   "cell_type": "code",
   "execution_count": null,
   "metadata": {},
   "outputs": [],
   "source": []
  },
  {
   "cell_type": "markdown",
   "metadata": {},
   "source": [
    "5. **Iterador con `iter()` y `next()`**  \n",
    "   Usa `iter()` y `next()` para recorrer una lista sin usar un bucle `for`.  "
   ]
  },
  {
   "cell_type": "code",
   "execution_count": null,
   "metadata": {},
   "outputs": [],
   "source": []
  },
  {
   "cell_type": "markdown",
   "metadata": {},
   "source": [
    "6. **Iterador de Caracteres en una Cadena**  \n",
    "   Implementa un iterador que devuelva cada carácter de una cadena uno por uno.  "
   ]
  },
  {
   "cell_type": "code",
   "execution_count": null,
   "metadata": {},
   "outputs": [],
   "source": []
  },
  {
   "cell_type": "markdown",
   "metadata": {},
   "source": [
    "7. **Iterador con Paso Personalizado**  \n",
    "   Construye un iterador que genere una secuencia de números desde `a` hasta `b` con un incremento personalizado.  \n"
   ]
  },
  {
   "cell_type": "code",
   "execution_count": null,
   "metadata": {},
   "outputs": [],
   "source": []
  },
  {
   "cell_type": "markdown",
   "metadata": {},
   "source": [
    "8. **Iterador Circular**  \n",
    "   Crea un iterador que recorra los elementos de una lista en un bucle infinito.  "
   ]
  },
  {
   "cell_type": "code",
   "execution_count": null,
   "metadata": {},
   "outputs": [],
   "source": []
  },
  {
   "cell_type": "markdown",
   "metadata": {},
   "source": [
    "9. **Iterador con Estado Persistente**  \n",
    "   Diseña un iterador que recuerde su estado entre ejecuciones, incluso si se pausa. "
   ]
  },
  {
   "cell_type": "code",
   "execution_count": null,
   "metadata": {},
   "outputs": [],
   "source": []
  },
  {
   "cell_type": "markdown",
   "metadata": {},
   "source": [
    "10. **Iterador para Filtrar Elementos**  \n",
    "   Implementa un iterador que filtre y devuelva solo los números impares de una lista dada.  "
   ]
  },
  {
   "cell_type": "code",
   "execution_count": null,
   "metadata": {},
   "outputs": [],
   "source": []
  }
 ],
 "metadata": {
  "kernelspec": {
   "display_name": "Python 3",
   "language": "python",
   "name": "python3"
  },
  "language_info": {
   "codemirror_mode": {
    "name": "ipython",
    "version": 3
   },
   "file_extension": ".py",
   "mimetype": "text/x-python",
   "name": "python",
   "nbconvert_exporter": "python",
   "pygments_lexer": "ipython3",
   "version": "3.13.0"
  }
 },
 "nbformat": 4,
 "nbformat_minor": 2
}
