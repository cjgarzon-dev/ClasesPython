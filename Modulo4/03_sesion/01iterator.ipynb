{
 "cells": [
  {
   "cell_type": "markdown",
   "metadata": {},
   "source": [
    "# **Iteradores y Generadores**\n",
    "## **Iteradores**\n",
    "Un iterador en Python es un objeto que implementa los métodos **__iter__()** y **__next__()**. Un iterador permite recorrer un conjunto de datos sin necesidad de cargar toda la secuencia en memoria."
   ]
  },
  {
   "cell_type": "code",
   "execution_count": null,
   "metadata": {},
   "outputs": [],
   "source": [
    "class Counter:\n",
    "    def __init__(self, limit):\n",
    "        self.limit = limit\n",
    "        self.counter = 0\n",
    "    \n",
    "    def __iter__(self):\n",
    "        return self\n",
    "    \n",
    "    def __next__(self):\n",
    "        if self.counter < self.limit:\n",
    "            value = self.counter\n",
    "            self.counter += 1\n",
    "            return value\n",
    "        else:\n",
    "            raise StopIteration\n",
    "\n",
    "# Uso del Iterador\n",
    "iterator = Counter(10)\n",
    "for num in iterator:\n",
    "    print(num)"
   ]
  },
  {
   "cell_type": "markdown",
   "metadata": {},
   "source": [
    "### Ejemplo:"
   ]
  },
  {
   "cell_type": "code",
   "execution_count": null,
   "metadata": {},
   "outputs": [],
   "source": [
    "class Turns:\n",
    "    def __init__(self, max_turn=100):\n",
    "        self.max_turn = max_turn\n",
    "        self.turn_actual = 0\n",
    "    \n",
    "    def __iter__(self):\n",
    "        return self\n",
    "    \n",
    "    def __next__(self):\n",
    "        if self.turn_actual < self.max_turn:\n",
    "            self.turn_actual += 1\n",
    "        else:\n",
    "            self.turn_actual = 1\n",
    "            return f'Turno: {self.turn_actual}'\n",
    "\n",
    "turn = Turns()\n",
    "\n",
    "for _ in range(105):\n",
    "    print(next(turn))"
   ]
  },
  {
   "cell_type": "markdown",
   "metadata": {},
   "source": [
    "## **Generadores**\n",
    "Un **generador** es una forma más eficiente de crear un iterador. Se usa cuando no almacenamos todas las secuencias en memoria, si no **producir valores sobre la marcha** con **yield**\n",
    "Se usa *yield* para retornar\n",
    "un *return* nos devuelve un valor único, en cambio un generador nos devuelve un objeto que sigue siendo **iterador** y permite estar en pausa mientras se está trabajando, ahorrando consumo de memoria y rendimiento."
   ]
  },
  {
   "cell_type": "markdown",
   "metadata": {},
   "source": [
    "### **Return** vs **Yield**"
   ]
  },
  {
   "cell_type": "code",
   "execution_count": 16,
   "metadata": {},
   "outputs": [
    {
     "name": "stdout",
     "output_type": "stream",
     "text": [
      "[0, 1, 2, 3, 4, 5, 6, 7, 8, 9]\n"
     ]
    }
   ],
   "source": [
    "# RETURN\n",
    "def numbers_until(n):\n",
    "    list = []\n",
    "    for i in range(n):\n",
    "        list.append(i)\n",
    "    return list\n",
    "\n",
    "print(numbers_until(10))"
   ]
  },
  {
   "cell_type": "code",
   "execution_count": null,
   "metadata": {},
   "outputs": [],
   "source": [
    "def numbers_until2(n):\n",
    "    for i in range(n):\n",
    "        yield i     # pausa la función -> permite estar revisando cada que se genera la función\n",
    "gen = numbers_until2(10)"
   ]
  },
  {
   "cell_type": "code",
   "execution_count": null,
   "metadata": {},
   "outputs": [],
   "source": [
    "print(next(gen))"
   ]
  },
  {
   "cell_type": "code",
   "execution_count": 4,
   "metadata": {},
   "outputs": [
    {
     "name": "stdout",
     "output_type": "stream",
     "text": [
      "Temperatura actual: 27.77°C\n"
     ]
    }
   ],
   "source": [
    "import random\n",
    "import time\n",
    "\n",
    "def sensor_wheater():\n",
    "    while True:\n",
    "        temp = round(random.uniform(10.0, 35.0), 2)\n",
    "        yield f'Temperatura actual: {temp}°C'\n",
    "        time.sleep(2)\n",
    "        break\n",
    "\n",
    "for lecture in sensor_wheater():\n",
    "    print(lecture)"
   ]
  },
  {
   "cell_type": "markdown",
   "metadata": {},
   "source": [
    "### Conclusión\n",
    "- Se usa **return** cuando se necesita el resultado completo de inmediato\n",
    "- Se usa **yield** cuando se necesita generar valores de manera eficiente sin cargar toda la memoria"
   ]
  }
 ],
 "metadata": {
  "kernelspec": {
   "display_name": "Python 3",
   "language": "python",
   "name": "python3"
  },
  "language_info": {
   "codemirror_mode": {
    "name": "ipython",
    "version": 3
   },
   "file_extension": ".py",
   "mimetype": "text/x-python",
   "name": "python",
   "nbconvert_exporter": "python",
   "pygments_lexer": "ipython3",
   "version": "3.13.0"
  }
 },
 "nbformat": 4,
 "nbformat_minor": 2
}
