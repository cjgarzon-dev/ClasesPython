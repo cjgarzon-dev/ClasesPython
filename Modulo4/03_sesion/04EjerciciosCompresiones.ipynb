{
 "cells": [
  {
   "cell_type": "markdown",
   "metadata": {},
   "source": [
    "# **Ejercicios de Comprensiones en Python**  \n",
    "\n",
    "1. **Lista de Cuadrados**  \n",
    "   Usa una comprensión de lista para generar una lista con los cuadrados de los primeros `n` números naturales.  \n"
   ]
  },
  {
   "cell_type": "code",
   "execution_count": null,
   "metadata": {},
   "outputs": [
    {
     "name": "stdout",
     "output_type": "stream",
     "text": [
      "[1, 4, 9, 16, 25, 36, 49, 64, 81, 100]\n"
     ]
    }
   ],
   "source": [
    "n = 10\n",
    "quadrates = [x ** 2 for x in range(1, n+1)]\n",
    "print(quadrates)"
   ]
  },
  {
   "cell_type": "markdown",
   "metadata": {},
   "source": [
    "2. **Filtrar Números Pares**  \n",
    "   Crea una comprensión de lista que filtre los números pares de una lista dada.  "
   ]
  },
  {
   "cell_type": "code",
   "execution_count": 20,
   "metadata": {},
   "outputs": [
    {
     "name": "stdout",
     "output_type": "stream",
     "text": [
      "[2, 4, 6, 8, 10, 12, 14, 16, 18, 20, 22, 24]\n",
      "[1, 3, 5, 7, 9, 11, 13, 15, 17, 19, 21, 23, 25]\n"
     ]
    }
   ],
   "source": [
    "list1 = __builtins__.list(range(1, 26))\n",
    "num_pair = [x for x in list1 if x % 2 == 0]\n",
    "print(num_pair)\n",
    "\n",
    "list2 = __builtins__.list(range(1, 26))\n",
    "num_impair = [x for x in list2 if x % 2 == 1]\n",
    "print(num_impair)"
   ]
  },
  {
   "cell_type": "markdown",
   "metadata": {},
   "source": [
    "3. **Longitud de Palabras**  \n",
    "   Dada una lista de palabras, usa una comprensión de lista para obtener una lista con la longitud de cada palabra.  \n"
   ]
  },
  {
   "cell_type": "code",
   "execution_count": 12,
   "metadata": {},
   "outputs": [
    {
     "name": "stdout",
     "output_type": "stream",
     "text": [
      "[6, 12, 6, 6, 12]\n"
     ]
    }
   ],
   "source": [
    "words = ['Python', 'Compresiones', 'Listas', 'Codigo', 'Diccionarios']\n",
    "longitude = [len(word) for word in words]\n",
    "print(longitude)"
   ]
  },
  {
   "cell_type": "markdown",
   "metadata": {},
   "source": [
    "4. **Convertir Texto a Mayúsculas**  \n",
    "   Usa una comprensión de lista para transformar todas las palabras de una lista en mayúsculas.  \n"
   ]
  },
  {
   "cell_type": "code",
   "execution_count": 13,
   "metadata": {},
   "outputs": [
    {
     "name": "stdout",
     "output_type": "stream",
     "text": [
      "['PYTHON', 'COMPRESIONES', 'LISTAS', 'CODIGO', 'DICCIONARIOS']\n"
     ]
    }
   ],
   "source": [
    "capital_words = [word.upper() for word in words]\n",
    "print(capital_words)"
   ]
  },
  {
   "cell_type": "markdown",
   "metadata": {},
   "source": [
    "5. **Diccionario de Cuadrados**  \n",
    "   Crea una comprensión de diccionario donde las claves sean números del `1` al `n` y los valores sean sus cuadrados.  \n"
   ]
  },
  {
   "cell_type": "code",
   "execution_count": 14,
   "metadata": {},
   "outputs": [
    {
     "name": "stdout",
     "output_type": "stream",
     "text": [
      "{1: 1, 2: 4, 3: 9, 4: 16, 5: 25, 6: 36, 7: 49, 8: 64, 9: 81, 10: 100}\n"
     ]
    }
   ],
   "source": [
    "n = 10\n",
    "dictionary = {x:x ** 2 for x in range(1, n+1)}\n",
    "print(dictionary)"
   ]
  },
  {
   "cell_type": "markdown",
   "metadata": {},
   "source": [
    "6. **Filtrar y Transformar**  \n",
    "   Genera una lista con los cubos de los números impares de una lista dada usando una sola comprensión.  \n"
   ]
  },
  {
   "cell_type": "code",
   "execution_count": 17,
   "metadata": {},
   "outputs": [
    {
     "name": "stdout",
     "output_type": "stream",
     "text": [
      "[1, 3, 5, 7, 9, 11, 13, 15, 17, 19, 21, 23]\n"
     ]
    }
   ],
   "source": [
    "lista = __builtins__.list(range(1, 25))\n",
    "impair = [x for x in lista if x % 2 == 1]\n",
    "print(impair)"
   ]
  },
  {
   "cell_type": "markdown",
   "metadata": {},
   "source": [
    "7. **Invertir Claves y Valores**  \n",
    "   Dado un diccionario, usa una comprensión de diccionario para intercambiar sus claves y valores.  \n"
   ]
  },
  {
   "cell_type": "code",
   "execution_count": 24,
   "metadata": {},
   "outputs": [
    {
     "name": "stdout",
     "output_type": "stream",
     "text": [
      "{1: 1, 4: 2, 9: 3, 16: 4, 25: 5, 36: 6, 49: 7, 64: 8, 81: 9, 100: 10}\n"
     ]
    }
   ],
   "source": [
    "dict_reverse = {key:value for value, key in dictionary.items()}\n",
    "print(dict_reverse)"
   ]
  },
  {
   "cell_type": "markdown",
   "metadata": {},
   "source": [
    "8. **Palabras con más de 5 Letras**  \n",
    "   Usa una comprensión de lista para extraer de una lista de palabras solo aquellas que tengan más de 5 letras.  \n"
   ]
  },
  {
   "cell_type": "code",
   "execution_count": 25,
   "metadata": {},
   "outputs": [
    {
     "name": "stdout",
     "output_type": "stream",
     "text": [
      "['Compresiones', 'Diccionarios']\n"
     ]
    }
   ],
   "source": [
    "words_larges = [word for word in words if len(word) > 8]\n",
    "print(words_larges)"
   ]
  },
  {
   "cell_type": "markdown",
   "metadata": {},
   "source": [
    "9. **Unir Listas en un Diccionario**  \n",
    "   Dadas dos listas, una con nombres y otra con edades, crea un diccionario donde los nombres sean claves y las edades valores.  \n"
   ]
  },
  {
   "cell_type": "code",
   "execution_count": 26,
   "metadata": {},
   "outputs": [
    {
     "name": "stdout",
     "output_type": "stream",
     "text": [
      "{'Juan': 20, 'Santiago': 25, 'Maria': 30, 'Pedro': 35}\n"
     ]
    }
   ],
   "source": [
    "names = ['Juan', 'Santiago', 'Maria', 'Pedro']\n",
    "ages = [20, 25, 30, 35, 40]\n",
    "dict_name_age = {names[i]: ages[i] for i in range(len(names))}\n",
    "print(dict_name_age)"
   ]
  },
  {
   "cell_type": "markdown",
   "metadata": {},
   "source": [
    "10. **Eliminar Vocales de una Cadena**  \n",
    "   Usa una comprensión de lista para eliminar todas las vocales de una cadena dada y devolver el texto sin ellas.  "
   ]
  },
  {
   "cell_type": "code",
   "execution_count": null,
   "metadata": {},
   "outputs": [],
   "source": []
  }
 ],
 "metadata": {
  "kernelspec": {
   "display_name": "Python 3",
   "language": "python",
   "name": "python3"
  },
  "language_info": {
   "codemirror_mode": {
    "name": "ipython",
    "version": 3
   },
   "file_extension": ".py",
   "mimetype": "text/x-python",
   "name": "python",
   "nbconvert_exporter": "python",
   "pygments_lexer": "ipython3",
   "version": "3.13.0"
  }
 },
 "nbformat": 4,
 "nbformat_minor": 2
}
