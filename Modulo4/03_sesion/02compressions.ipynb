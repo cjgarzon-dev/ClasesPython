{
 "cells": [
  {
   "cell_type": "markdown",
   "metadata": {},
   "source": [
    "# **Compresiones de Listas y Diccionarios**"
   ]
  },
  {
   "cell_type": "markdown",
   "metadata": {},
   "source": [
    "## **Compresiones de Listas**\n",
    "Una compresión de una lista es una forma de generar una lista a partir de una secuencia de manera compacta\n",
    "\n",
    "### **Sintaxis**\n",
    "new_list = [expresion for elemento in iterable if condición]\n",
    "\n",
    "- **expresión:** operación o transformación que aplica a cada elemento\n",
    "- **iterable:** fuente de los datos\n",
    "- **condición (opcional):** filtrar los elementos"
   ]
  },
  {
   "cell_type": "code",
   "execution_count": 1,
   "metadata": {},
   "outputs": [
    {
     "name": "stdout",
     "output_type": "stream",
     "text": [
      "[1, 4, 9, 16, 25]\n"
     ]
    }
   ],
   "source": [
    "# De manera tradicional\n",
    "nums = [1,2,3,4,5]\n",
    "quadrates = []\n",
    "\n",
    "for num in nums:\n",
    "    quadrates.append(num ** 2)\n",
    "print(quadrates)"
   ]
  },
  {
   "cell_type": "markdown",
   "metadata": {},
   "source": [
    "new_list = [(expresion) for (elemento) in (iterable) if (condición)]"
   ]
  },
  {
   "cell_type": "code",
   "execution_count": 4,
   "metadata": {},
   "outputs": [
    {
     "name": "stdout",
     "output_type": "stream",
     "text": [
      "[1, 4, 9, 16, 25]\n"
     ]
    }
   ],
   "source": [
    "# Con compresión de listas\n",
    "quadrates2 = [num ** 2 for num in nums]\n",
    "print(quadrates2)"
   ]
  },
  {
   "cell_type": "code",
   "execution_count": 6,
   "metadata": {},
   "outputs": [
    {
     "name": "stdout",
     "output_type": "stream",
     "text": [
      "[2, 4, 6, 8, 10]\n"
     ]
    }
   ],
   "source": [
    "# Ejemplo 2 pares\n",
    "\n",
    "nums2 = [1,2,3,4,5,6,7,8,9,10]\n",
    "pairs = [pair for pair in nums2 if pair % 2 == 0]\n",
    "print(pairs)"
   ]
  },
  {
   "cell_type": "code",
   "execution_count": 17,
   "metadata": {},
   "outputs": [
    {
     "name": "stdout",
     "output_type": "stream",
     "text": [
      "['CARLOS', 'JUAN', 'MARIA', 'NATALIA', 'PEDRO']\n"
     ]
    }
   ],
   "source": [
    "# Ejemplo convertir en mayúsculas\n",
    "\n",
    "names = ['juan', 'carlos', 'pedro', 'maria', 'natalia']\n",
    "uppers = [upper.upper() for upper in names]\n",
    "print(sorted(uppers))"
   ]
  },
  {
   "cell_type": "markdown",
   "metadata": {},
   "source": [
    "## **Compresión de Diccionarios**\n",
    "### Sintaxis\n",
    "    new_dict = {(clave: valor) for (elemento) in (iterable) if (condición)}\n",
    "- **clave:** definir la clave del diccionario\n",
    "- **expresión:** operación o transformación que aplica a cada elemento\n",
    "- **iterable:** fuente de los datos\n",
    "- **condicional (opcional):** filtrar los elementos"
   ]
  },
  {
   "cell_type": "markdown",
   "metadata": {},
   "source": [
    "new_dict = {clave: valor for elemento in iterable if condición}"
   ]
  },
  {
   "cell_type": "code",
   "execution_count": 21,
   "metadata": {},
   "outputs": [
    {
     "name": "stdout",
     "output_type": "stream",
     "text": [
      "{'Maria': 3500, 'Cristhian': 4000}\n"
     ]
    }
   ],
   "source": [
    "# Ejemplo salario de empleados\n",
    "\n",
    "employees = {\n",
    "    'Juan': 2500,\n",
    "    'Pedro': 3000,\n",
    "    'Maria': 3500,\n",
    "    'Ana': 2000,\n",
    "    'Cristhian': 4000\n",
    "}\n",
    "\n",
    "salary_high = {name: salary for name, salary in employees.items() if salary > 3000}\n",
    "print(salary_high)"
   ]
  },
  {
   "cell_type": "code",
   "execution_count": 23,
   "metadata": {},
   "outputs": [
    {
     "name": "stdout",
     "output_type": "stream",
     "text": [
      "{'Colombia': 'Bogota', 'España': 'Madrid', 'Argentina': 'Buenos Aires', 'Ecuador': 'Quito'}\n",
      "{'Bogota': 'Colombia', 'Madrid': 'España', 'Buenos Aires': 'Argentina', 'Quito': 'Ecuador'}\n"
     ]
    }
   ],
   "source": [
    "capitals = {\n",
    "    'Colombia': 'Bogota',\n",
    "    'España': 'Madrid',\n",
    "    'Argentina': 'Buenos Aires',\n",
    "    'Ecuador': 'Quito'\n",
    "}\n",
    "reverse = {city: country for country, city in capitals.items()}\n",
    "print(capitals)\n",
    "print(reverse)"
   ]
  },
  {
   "cell_type": "code",
   "execution_count": 24,
   "metadata": {},
   "outputs": [
    {
     "name": "stdout",
     "output_type": "stream",
     "text": [
      "Lunes\n",
      "Mares\n",
      "Miercoles\n",
      "Jueves\n",
      "Viernes\n",
      "Lunes\n",
      "Mares\n",
      "Miercoles\n",
      "Jueves\n",
      "Viernes\n"
     ]
    }
   ],
   "source": [
    "from itertools import cycle\n",
    "\n",
    "days = ['Lunes', 'Mares', 'Miercoles', 'Jueves', 'Viernes']\n",
    "turns = cycle(days)\n",
    "\n",
    "for _ in range(10):\n",
    "    print(next(turns))"
   ]
  },
  {
   "cell_type": "code",
   "execution_count": null,
   "metadata": {},
   "outputs": [
    {
     "name": "stdout",
     "output_type": "stream",
     "text": [
      "<class 'itertools.combinations'>\n",
      "<class 'itertools.combinations'>\n",
      "<class 'itertools.combinations'>\n",
      "<class 'itertools.combinations'>\n",
      "<class 'itertools.combinations'>\n",
      "<class 'itertools.combinations'>\n",
      "<class 'itertools.combinations'>\n",
      "<class 'itertools.combinations'>\n",
      "<class 'itertools.combinations'>\n",
      "<class 'itertools.combinations'>\n"
     ]
    }
   ],
   "source": [
    "from itertools import combinations\n",
    "\n",
    "flavors = ['Vainilla', 'Chocolate', 'Fresa', 'Mango', 'Chicle']\n",
    "\n",
    "options = combinations(flavors,3)\n",
    "\n",
    "for combination in options:\n",
    "    print(combinations)"
   ]
  }
 ],
 "metadata": {
  "kernelspec": {
   "display_name": "Python 3",
   "language": "python",
   "name": "python3"
  },
  "language_info": {
   "codemirror_mode": {
    "name": "ipython",
    "version": 3
   },
   "file_extension": ".py",
   "mimetype": "text/x-python",
   "name": "python",
   "nbconvert_exporter": "python",
   "pygments_lexer": "ipython3",
   "version": "3.13.0"
  }
 },
 "nbformat": 4,
 "nbformat_minor": 2
}
